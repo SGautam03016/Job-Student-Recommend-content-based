{
 "cells": [
  {
   "cell_type": "markdown",
   "metadata": {},
   "source": []
  },
  {
   "cell_type": "code",
   "execution_count": 1,
   "metadata": {},
   "outputs": [],
   "source": [
    "import pandas as pd\n",
    "import numpy as np"
   ]
  },
  {
   "cell_type": "code",
   "execution_count": 14,
   "metadata": {},
   "outputs": [
    {
     "data": {
      "text/html": [
       "<div>\n",
       "<style scoped>\n",
       "    .dataframe tbody tr th:only-of-type {\n",
       "        vertical-align: middle;\n",
       "    }\n",
       "\n",
       "    .dataframe tbody tr th {\n",
       "        vertical-align: top;\n",
       "    }\n",
       "\n",
       "    .dataframe thead th {\n",
       "        text-align: right;\n",
       "    }\n",
       "</style>\n",
       "<table border=\"1\" class=\"dataframe\">\n",
       "  <thead>\n",
       "    <tr style=\"text-align: right;\">\n",
       "      <th></th>\n",
       "      <th>Student_ID</th>\n",
       "      <th>Name</th>\n",
       "      <th>Skills</th>\n",
       "      <th>Education</th>\n",
       "      <th>Experience</th>\n",
       "    </tr>\n",
       "  </thead>\n",
       "  <tbody>\n",
       "    <tr>\n",
       "      <th>0</th>\n",
       "      <td>1</td>\n",
       "      <td>Student_1</td>\n",
       "      <td>Python, Machine Learning, Cybersecurity, Web D...</td>\n",
       "      <td>M.Tech</td>\n",
       "      <td>5+ years</td>\n",
       "    </tr>\n",
       "    <tr>\n",
       "      <th>1</th>\n",
       "      <td>2</td>\n",
       "      <td>Student_2</td>\n",
       "      <td>Python, Cloud Computing, Java, Web Development...</td>\n",
       "      <td>M.Tech</td>\n",
       "      <td>3 years</td>\n",
       "    </tr>\n",
       "    <tr>\n",
       "      <th>2</th>\n",
       "      <td>3</td>\n",
       "      <td>Student_3</td>\n",
       "      <td>Java, DevOps, C++, Cloud Computing</td>\n",
       "      <td>B.Tech</td>\n",
       "      <td>2 years</td>\n",
       "    </tr>\n",
       "    <tr>\n",
       "      <th>3</th>\n",
       "      <td>4</td>\n",
       "      <td>Student_4</td>\n",
       "      <td>Machine Learning, Data Science, SQL, DevOps, C...</td>\n",
       "      <td>M.Sc</td>\n",
       "      <td>2 years</td>\n",
       "    </tr>\n",
       "    <tr>\n",
       "      <th>4</th>\n",
       "      <td>5</td>\n",
       "      <td>Student_5</td>\n",
       "      <td>Cloud Computing, SQL, Cybersecurity, DevOps</td>\n",
       "      <td>B.Sc</td>\n",
       "      <td>3 years</td>\n",
       "    </tr>\n",
       "    <tr>\n",
       "      <th>...</th>\n",
       "      <td>...</td>\n",
       "      <td>...</td>\n",
       "      <td>...</td>\n",
       "      <td>...</td>\n",
       "      <td>...</td>\n",
       "    </tr>\n",
       "    <tr>\n",
       "      <th>95</th>\n",
       "      <td>96</td>\n",
       "      <td>Student_96</td>\n",
       "      <td>Python, Data Science, Web Development, Cyberse...</td>\n",
       "      <td>M.Tech</td>\n",
       "      <td>2 years</td>\n",
       "    </tr>\n",
       "    <tr>\n",
       "      <th>96</th>\n",
       "      <td>97</td>\n",
       "      <td>Student_97</td>\n",
       "      <td>Machine Learning, Web Development, Cloud Compu...</td>\n",
       "      <td>B.Sc</td>\n",
       "      <td>2 years</td>\n",
       "    </tr>\n",
       "    <tr>\n",
       "      <th>97</th>\n",
       "      <td>98</td>\n",
       "      <td>Student_98</td>\n",
       "      <td>Cybersecurity, DevOps, Web Development, Cloud ...</td>\n",
       "      <td>B.Tech</td>\n",
       "      <td>3 years</td>\n",
       "    </tr>\n",
       "    <tr>\n",
       "      <th>98</th>\n",
       "      <td>99</td>\n",
       "      <td>Student_99</td>\n",
       "      <td>Cybersecurity, C++, Java, DevOps, SQL</td>\n",
       "      <td>M.Sc</td>\n",
       "      <td>3 years</td>\n",
       "    </tr>\n",
       "    <tr>\n",
       "      <th>99</th>\n",
       "      <td>100</td>\n",
       "      <td>Student_100</td>\n",
       "      <td>Cybersecurity, Web Development, Data Science, ...</td>\n",
       "      <td>B.Tech</td>\n",
       "      <td>1 year</td>\n",
       "    </tr>\n",
       "  </tbody>\n",
       "</table>\n",
       "<p>100 rows × 5 columns</p>\n",
       "</div>"
      ],
      "text/plain": [
       "    Student_ID         Name  \\\n",
       "0            1    Student_1   \n",
       "1            2    Student_2   \n",
       "2            3    Student_3   \n",
       "3            4    Student_4   \n",
       "4            5    Student_5   \n",
       "..         ...          ...   \n",
       "95          96   Student_96   \n",
       "96          97   Student_97   \n",
       "97          98   Student_98   \n",
       "98          99   Student_99   \n",
       "99         100  Student_100   \n",
       "\n",
       "                                               Skills Education Experience  \n",
       "0   Python, Machine Learning, Cybersecurity, Web D...    M.Tech   5+ years  \n",
       "1   Python, Cloud Computing, Java, Web Development...    M.Tech    3 years  \n",
       "2                  Java, DevOps, C++, Cloud Computing    B.Tech    2 years  \n",
       "3   Machine Learning, Data Science, SQL, DevOps, C...      M.Sc    2 years  \n",
       "4         Cloud Computing, SQL, Cybersecurity, DevOps      B.Sc    3 years  \n",
       "..                                                ...       ...        ...  \n",
       "95  Python, Data Science, Web Development, Cyberse...    M.Tech    2 years  \n",
       "96  Machine Learning, Web Development, Cloud Compu...      B.Sc    2 years  \n",
       "97  Cybersecurity, DevOps, Web Development, Cloud ...    B.Tech    3 years  \n",
       "98              Cybersecurity, C++, Java, DevOps, SQL      M.Sc    3 years  \n",
       "99  Cybersecurity, Web Development, Data Science, ...    B.Tech     1 year  \n",
       "\n",
       "[100 rows x 5 columns]"
      ]
     },
     "execution_count": 14,
     "metadata": {},
     "output_type": "execute_result"
    }
   ],
   "source": [
    "std = pd.read_csv(\"D:\\\\College\\\\Hackthone\\\\Smart Gujrat\\\\Data\\\\students.csv\")\n",
    "std.head()\n",
    "std"
   ]
  },
  {
   "cell_type": "code",
   "execution_count": 3,
   "metadata": {},
   "outputs": [
    {
     "data": {
      "text/plain": [
       "(200, 5)"
      ]
     },
     "execution_count": 3,
     "metadata": {},
     "output_type": "execute_result"
    }
   ],
   "source": [
    "applications = pd.read_csv(\"D:\\\\College\\\\Hackthone\\\\Smart Gujrat\\\\Data\\\\applications.csv\")\n",
    "applications.head()\n",
    "applications.shape"
   ]
  },
  {
   "cell_type": "code",
   "execution_count": 4,
   "metadata": {},
   "outputs": [
    {
     "data": {
      "text/html": [
       "<div>\n",
       "<style scoped>\n",
       "    .dataframe tbody tr th:only-of-type {\n",
       "        vertical-align: middle;\n",
       "    }\n",
       "\n",
       "    .dataframe tbody tr th {\n",
       "        vertical-align: top;\n",
       "    }\n",
       "\n",
       "    .dataframe thead th {\n",
       "        text-align: right;\n",
       "    }\n",
       "</style>\n",
       "<table border=\"1\" class=\"dataframe\">\n",
       "  <thead>\n",
       "    <tr style=\"text-align: right;\">\n",
       "      <th></th>\n",
       "      <th>Job_ID</th>\n",
       "      <th>Company</th>\n",
       "      <th>Job_Role</th>\n",
       "      <th>Required_Skills</th>\n",
       "      <th>Experience_Level</th>\n",
       "    </tr>\n",
       "  </thead>\n",
       "  <tbody>\n",
       "    <tr>\n",
       "      <th>0</th>\n",
       "      <td>1</td>\n",
       "      <td>Tesla</td>\n",
       "      <td>Cloud Engineer</td>\n",
       "      <td>C++, Machine Learning, Cloud Computing</td>\n",
       "      <td>3 years</td>\n",
       "    </tr>\n",
       "    <tr>\n",
       "      <th>1</th>\n",
       "      <td>2</td>\n",
       "      <td>Microsoft</td>\n",
       "      <td>Software Engineer</td>\n",
       "      <td>Cloud Computing, Cybersecurity</td>\n",
       "      <td>Fresher</td>\n",
       "    </tr>\n",
       "    <tr>\n",
       "      <th>2</th>\n",
       "      <td>3</td>\n",
       "      <td>Infosys</td>\n",
       "      <td>ML Engineer</td>\n",
       "      <td>Web Development, C++</td>\n",
       "      <td>2 years</td>\n",
       "    </tr>\n",
       "    <tr>\n",
       "      <th>3</th>\n",
       "      <td>4</td>\n",
       "      <td>Oracle</td>\n",
       "      <td>Data Analyst</td>\n",
       "      <td>Data Science, DevOps, Java</td>\n",
       "      <td>Fresher</td>\n",
       "    </tr>\n",
       "    <tr>\n",
       "      <th>4</th>\n",
       "      <td>5</td>\n",
       "      <td>Microsoft</td>\n",
       "      <td>Cloud Engineer</td>\n",
       "      <td>Cybersecurity, Cloud Computing, SQL</td>\n",
       "      <td>5+ years</td>\n",
       "    </tr>\n",
       "  </tbody>\n",
       "</table>\n",
       "</div>"
      ],
      "text/plain": [
       "   Job_ID    Company           Job_Role  \\\n",
       "0       1      Tesla     Cloud Engineer   \n",
       "1       2  Microsoft  Software Engineer   \n",
       "2       3    Infosys        ML Engineer   \n",
       "3       4     Oracle       Data Analyst   \n",
       "4       5  Microsoft     Cloud Engineer   \n",
       "\n",
       "                          Required_Skills Experience_Level  \n",
       "0  C++, Machine Learning, Cloud Computing          3 years  \n",
       "1          Cloud Computing, Cybersecurity          Fresher  \n",
       "2                    Web Development, C++          2 years  \n",
       "3              Data Science, DevOps, Java          Fresher  \n",
       "4     Cybersecurity, Cloud Computing, SQL         5+ years  "
      ]
     },
     "execution_count": 4,
     "metadata": {},
     "output_type": "execute_result"
    }
   ],
   "source": [
    "jobs = pd.read_csv(\"D:\\\\College\\\\Hackthone\\\\Smart Gujrat\\\\Data\\\\jobs.csv\")\n",
    "jobs.head()\n"
   ]
  },
  {
   "cell_type": "code",
   "execution_count": 5,
   "metadata": {},
   "outputs": [
    {
     "data": {
      "text/plain": [
       "Student_ID    0\n",
       "Name          0\n",
       "Skills        0\n",
       "Education     0\n",
       "Experience    0\n",
       "dtype: int64"
      ]
     },
     "execution_count": 5,
     "metadata": {},
     "output_type": "execute_result"
    }
   ],
   "source": [
    "#checking missing value \n",
    "std.isnull().sum()"
   ]
  },
  {
   "cell_type": "code",
   "execution_count": 6,
   "metadata": {},
   "outputs": [
    {
     "data": {
      "text/plain": [
       "Student_ID            0\n",
       "Job_ID                0\n",
       "Applied_Company       0\n",
       "Job_Role              0\n",
       "Application_Status    0\n",
       "dtype: int64"
      ]
     },
     "execution_count": 6,
     "metadata": {},
     "output_type": "execute_result"
    }
   ],
   "source": [
    "applications.isnull().sum()"
   ]
  },
  {
   "cell_type": "code",
   "execution_count": 7,
   "metadata": {},
   "outputs": [
    {
     "data": {
      "text/plain": [
       "Job_ID              0\n",
       "Company             0\n",
       "Job_Role            0\n",
       "Required_Skills     0\n",
       "Experience_Level    0\n",
       "dtype: int64"
      ]
     },
     "execution_count": 7,
     "metadata": {},
     "output_type": "execute_result"
    }
   ],
   "source": [
    "jobs.isnull().sum()"
   ]
  },
  {
   "cell_type": "code",
   "execution_count": 8,
   "metadata": {},
   "outputs": [
    {
     "data": {
      "text/plain": [
       "'Map student applications to jobs to train the recommendation model'"
      ]
     },
     "execution_count": 8,
     "metadata": {},
     "output_type": "execute_result"
    }
   ],
   "source": [
    "#now third step is preprocessing the data\n",
    "#You need to convert text data (like skills and job descriptions) into a format that the machine learning model can understand.\n",
    "\"\"\"Convert skills and job requirements into numerical vectors.\n",
    "Use TF-IDF (Term Frequency-Inverse Document Frequency) to represent skills and job descriptions as numerical values.\"\"\"\n",
    "#Normalize categorical data (e.g., Experience Level, Job Role).\n",
    "\"\"\"Map student applications to jobs to train the recommendation model\"\"\""
   ]
  },
  {
   "cell_type": "code",
   "execution_count": 9,
   "metadata": {},
   "outputs": [],
   "source": [
    "from sklearn.feature_extraction.text import TfidfVectorizer\n",
    "#convert skills and jobs requirement intoo tf idf vector\n",
    "vectorizer = TfidfVectorizer()\n",
    "std_skills_tfidf = vectorizer.fit_transform(std['Skills'])\n",
    "job_requirements_tfidf = vectorizer.fit_transform(jobs['Required_Skills'])"
   ]
  },
  {
   "cell_type": "code",
   "execution_count": 10,
   "metadata": {},
   "outputs": [
    {
     "data": {
      "text/plain": [
       "<100x13 sparse matrix of type '<class 'numpy.float64'>'\n",
       "\twith 475 stored elements in Compressed Sparse Row format>"
      ]
     },
     "execution_count": 10,
     "metadata": {},
     "output_type": "execute_result"
    }
   ],
   "source": [
    "std_skills_tfidf"
   ]
  },
  {
   "cell_type": "code",
   "execution_count": 11,
   "metadata": {},
   "outputs": [
    {
     "data": {
      "text/plain": [
       "<50x13 sparse matrix of type '<class 'numpy.float64'>'\n",
       "\twith 196 stored elements in Compressed Sparse Row format>"
      ]
     },
     "execution_count": 11,
     "metadata": {},
     "output_type": "execute_result"
    }
   ],
   "source": [
    "job_requirements_tfidf"
   ]
  },
  {
   "cell_type": "code",
   "execution_count": 12,
   "metadata": {},
   "outputs": [],
   "source": [
    "#build recommondation model help of the content based recommondation \n",
    "from sklearn.metrics.pairwise import cosine_similarity\n",
    "#if you want to calculate similarity between two text description\n",
    "similarity_matrix = cosine_similarity(std_skills_tfidf, job_requirements_tfidf)\n",
    "\n",
    "#above the things create a metrics\n",
    "#rows = std\n",
    "#columns = job requirement \n",
    "#value = how well students skill match a jobs requirements\n",
    "\n"
   ]
  },
  {
   "cell_type": "code",
   "execution_count": 13,
   "metadata": {},
   "outputs": [
    {
     "name": "stdout",
     "output_type": "stream",
     "text": [
      "[Job_ID                                                           47\n",
      "Company                                                    Facebook\n",
      "Job_Role                                   Cybersecurity Specialist\n",
      "Required_Skills     Web Development, Cloud Computing, Cybersecurity\n",
      "Experience_Level                                            Fresher\n",
      "Name: 46, dtype: object, Job_ID                                                             30\n",
      "Company                                                        Amazon\n",
      "Job_Role                                                 Data Analyst\n",
      "Required_Skills     Machine Learning, Cybersecurity, Cloud Computi...\n",
      "Experience_Level                                               1 year\n",
      "Name: 29, dtype: object, Job_ID                                                          39\n",
      "Company                                                        IBM\n",
      "Job_Role                                         Software Engineer\n",
      "Required_Skills     Python, C++, Cloud Computing, Machine Learning\n",
      "Experience_Level                                          5+ years\n",
      "Name: 38, dtype: object, Job_ID                                                       34\n",
      "Company                                                  Amazon\n",
      "Job_Role                                         Cloud Engineer\n",
      "Required_Skills     Python, Cybersecurity, Web Development, C++\n",
      "Experience_Level                                         1 year\n",
      "Name: 33, dtype: object, Job_ID                                                             49\n",
      "Company                                                           TCS\n",
      "Job_Role                                                  ML Engineer\n",
      "Required_Skills     Cybersecurity, Web Development, Cloud Computin...\n",
      "Experience_Level                                               1 year\n",
      "Name: 48, dtype: object]\n"
     ]
    }
   ],
   "source": [
    "#Create function to recommondation for jobs\n",
    "#Finds the index (row number) of the student in the dataset.\n",
    "def recommend_jobs_for_students(student_id , top_n = 5):\n",
    "    std_idx = std[std['Student_ID'] == student_id].index[0]\n",
    "    #std[std['Student_ID'] == student_id] finds the student row according their id4\n",
    "    #index[0] gets the student position in dataset \n",
    "\n",
    "    job_scores = list(enumerate(similarity_matrix[std_idx]))\n",
    "    \"\"\"Gets similarity scores between this student and all jobs.\n",
    "\n",
    "similarity_matrix[student_idx]: Extracts similarity values for this student.\n",
    "enumerate() helps store job indices along with their similarity scores.\"\"\"\n",
    "\n",
    "    job_scores = sorted(job_scores, key=lambda x: x[1], reverse=True)[:top_n]\n",
    "    \"\"\"Sorts jobs from highest to lowest similarity and selects the top N jobs.\n",
    "\n",
    "sorted(job_scores, key=lambda x: x[1], reverse=True): Sorts jobs by best match.\n",
    "[:top_n]: Picks top N most relevant jobs.\"\"\"\n",
    "\n",
    "    recommended_jobs = [jobs.iloc[i[0]] for i in job_scores]\n",
    "    #Gets job details from the dataset based on the best matches.\n",
    "\n",
    "    return recommended_jobs\n",
    "\n",
    "print(recommend_jobs_for_students(1))    \n",
    "\n"
   ]
  },
  {
   "cell_type": "code",
   "execution_count": null,
   "metadata": {},
   "outputs": [],
   "source": []
  }
 ],
 "metadata": {
  "kernelspec": {
   "display_name": "base",
   "language": "python",
   "name": "python3"
  },
  "language_info": {
   "codemirror_mode": {
    "name": "ipython",
    "version": 3
   },
   "file_extension": ".py",
   "mimetype": "text/x-python",
   "name": "python",
   "nbconvert_exporter": "python",
   "pygments_lexer": "ipython3",
   "version": "3.12.7"
  }
 },
 "nbformat": 4,
 "nbformat_minor": 2
}
